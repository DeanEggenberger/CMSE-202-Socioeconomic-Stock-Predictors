{
 "cells": [
  {
   "cell_type": "markdown",
   "id": "2d0cae56",
   "metadata": {},
   "source": [
    "This is where we will be loading in data, cleaning it, analyzing it, and drawing conclusions from it. "
   ]
  },
  {
   "cell_type": "code",
   "execution_count": null,
   "id": "980b05b1",
   "metadata": {},
   "outputs": [],
   "source": []
  }
 ],
 "metadata": {
  "kernelspec": {
   "display_name": "Python 3 (ipykernel)",
   "language": "python",
   "name": "python3"
  },
  "language_info": {
   "codemirror_mode": {
    "name": "ipython",
    "version": 3
   },
   "file_extension": ".py",
   "mimetype": "text/x-python",
   "name": "python",
   "nbconvert_exporter": "python",
   "pygments_lexer": "ipython3",
   "version": "3.9.16"
  }
 },
 "nbformat": 4,
 "nbformat_minor": 5
}
